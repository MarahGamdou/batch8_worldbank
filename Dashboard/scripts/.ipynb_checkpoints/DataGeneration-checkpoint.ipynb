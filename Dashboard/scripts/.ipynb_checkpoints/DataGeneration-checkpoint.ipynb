{
 "cells": [
  {
   "cell_type": "markdown",
   "metadata": {},
   "source": [
    "### Creating proper input for missing data sets"
   ]
  },
  {
   "cell_type": "code",
   "execution_count": 1,
   "metadata": {},
   "outputs": [],
   "source": [
    "a = [1900, 1910, 1920, 1930, 1940, 1950, 1960, 1970, 1980, 1990, 2000, 2010,2020,2030,2040,2050,2060,2070,2080,2090]\n",
    "b = ['Australia and New Zealand','Caribbean','Central America','Central Asia','Eastern Africa','Eastern Asia','Eastern Europe','Melanesia','Micronesia','Middle Africa','Northern Africa','Northern America','Northern Europe','Polynesia','South America','South-Eastern Asia','Southern Africa','Southern Asia','Southern Europe','Western Africa','Western Asia','Western Europe']\n",
    "c = ['Droughts']\n",
    "d = [2.6,4.5,6.0,8.5]\n",
    "e = [2020,2030,2040,2050,2060,2070,2080,2090]\n",
    "f = ['Floods', 'Droughts']"
   ]
  },
  {
   "cell_type": "markdown",
   "metadata": {},
   "source": [
    "### Creating rows for missing data sets"
   ]
  },
  {
   "cell_type": "code",
   "execution_count": 2,
   "metadata": {},
   "outputs": [],
   "source": [
    "import pandas as pd\n",
    "from itertools import product\n",
    "#df1 = pd.DataFrame(list(product(a,b,c,d)), columns=['Decade','UN_Geosheme_Subregion','Disaster_Type','RCP'])\n",
    "#df2 = pd.DataFrame(list(product(e,b,f,d)), columns=['Decade','UN_Geosheme_Subregion','Disaster_Type','RCP'])\n",
    "#df = df1.append(df2)\n",
    "df = pd.DataFrame(list(product(e,b,f,d)), columns=['Decade','UN_Geosheme_Subregion','Disaster_Type','RCP'])\n",
    "df.loc[df.Decade < 2020, 'RCP'] = None\n",
    "df = df.drop_duplicates()"
   ]
  },
  {
   "cell_type": "markdown",
   "metadata": {},
   "source": [
    "### Filling missing data sets rows with dummy values"
   ]
  },
  {
   "cell_type": "code",
   "execution_count": 3,
   "metadata": {},
   "outputs": [],
   "source": [
    "import numpy as np\n",
    "df['Financial_Impact'] = np.random.randint(0,100000000, df.shape[0])\n",
    "df['Human_Impact'] = np.random.randint(0,1000000, df.shape[0])\n",
    "df['DO'] = np.random.randint(0,100, df.shape[0])"
   ]
  },
  {
   "cell_type": "markdown",
   "metadata": {},
   "source": [
    "### Appending historical Floods data set "
   ]
  },
  {
   "cell_type": "code",
   "execution_count": 4,
   "metadata": {},
   "outputs": [],
   "source": [
    "pastfloods = pd.read_csv('../data/flood_history_agregates.csv')\n",
    "pastfloods['Disaster_Type'] = pastfloods['Disaster_Type'].replace(['Flood'],'Floods')\n",
    "pastfloods = pastfloods.drop(['RCP'], axis=1)\n",
    "pastfloods = pastfloods[pastfloods.Decade != 2020]\n",
    "df = df.append(pastfloods)"
   ]
  },
  {
   "cell_type": "markdown",
   "metadata": {},
   "source": [
    "### Appending historical Storms data set "
   ]
  },
  {
   "cell_type": "code",
   "execution_count": 5,
   "metadata": {},
   "outputs": [],
   "source": [
    "paststorms = pd.read_csv('../data/tempetes_hist_temperatures.csv', index_col=0)\n",
    "paststorms = paststorms[paststorms.Decade != 2020]\n",
    "df = df.append(paststorms)"
   ]
  },
  {
   "cell_type": "markdown",
   "metadata": {},
   "source": [
    "### Appending historical Droughts data set "
   ]
  },
  {
   "cell_type": "code",
   "execution_count": 6,
   "metadata": {},
   "outputs": [],
   "source": [
    "pastdroughts = pd.read_csv('../data/drought_hist_temperatures.csv', index_col=0)\n",
    "pastdroughts['Disaster_Type'] = pastdroughts['Disaster_Type'].replace(['Drought'],'Droughts')\n",
    "df = df.append(pastdroughts)"
   ]
  },
  {
   "cell_type": "markdown",
   "metadata": {},
   "source": [
    "### Appending future Storms data set "
   ]
  },
  {
   "cell_type": "code",
   "execution_count": 7,
   "metadata": {},
   "outputs": [],
   "source": [
    "futurestorms = pd.read_csv('../data/storms_preds_final_impacts.csv', index_col=0)\n",
    "df = df.append(futurestorms)"
   ]
  },
  {
   "cell_type": "markdown",
   "metadata": {},
   "source": [
    "### Génération du csv"
   ]
  },
  {
   "cell_type": "code",
   "execution_count": 8,
   "metadata": {},
   "outputs": [
    {
     "data": {
      "text/html": [
       "<div>\n",
       "<style scoped>\n",
       "    .dataframe tbody tr th:only-of-type {\n",
       "        vertical-align: middle;\n",
       "    }\n",
       "\n",
       "    .dataframe tbody tr th {\n",
       "        vertical-align: top;\n",
       "    }\n",
       "\n",
       "    .dataframe thead th {\n",
       "        text-align: right;\n",
       "    }\n",
       "</style>\n",
       "<table border=\"1\" class=\"dataframe\">\n",
       "  <thead>\n",
       "    <tr style=\"text-align: right;\">\n",
       "      <th></th>\n",
       "      <th>Decade</th>\n",
       "      <th>UN_Geosheme_Subregion</th>\n",
       "      <th>Disaster_Type</th>\n",
       "      <th>RCP</th>\n",
       "      <th>Financial_Impact</th>\n",
       "      <th>Human_Impact</th>\n",
       "      <th>DO</th>\n",
       "      <th>Rain</th>\n",
       "      <th>°C</th>\n",
       "    </tr>\n",
       "  </thead>\n",
       "  <tbody>\n",
       "    <tr>\n",
       "      <th>0</th>\n",
       "      <td>2020</td>\n",
       "      <td>Australia and New Zealand</td>\n",
       "      <td>Floods</td>\n",
       "      <td>2.6</td>\n",
       "      <td>47913440.0</td>\n",
       "      <td>584154.0</td>\n",
       "      <td>82</td>\n",
       "      <td>NaN</td>\n",
       "      <td>NaN</td>\n",
       "    </tr>\n",
       "    <tr>\n",
       "      <th>1</th>\n",
       "      <td>2020</td>\n",
       "      <td>Australia and New Zealand</td>\n",
       "      <td>Floods</td>\n",
       "      <td>4.5</td>\n",
       "      <td>34041165.0</td>\n",
       "      <td>389372.0</td>\n",
       "      <td>23</td>\n",
       "      <td>NaN</td>\n",
       "      <td>NaN</td>\n",
       "    </tr>\n",
       "    <tr>\n",
       "      <th>2</th>\n",
       "      <td>2020</td>\n",
       "      <td>Australia and New Zealand</td>\n",
       "      <td>Floods</td>\n",
       "      <td>6.0</td>\n",
       "      <td>13723660.0</td>\n",
       "      <td>830218.0</td>\n",
       "      <td>7</td>\n",
       "      <td>NaN</td>\n",
       "      <td>NaN</td>\n",
       "    </tr>\n",
       "    <tr>\n",
       "      <th>3</th>\n",
       "      <td>2020</td>\n",
       "      <td>Australia and New Zealand</td>\n",
       "      <td>Floods</td>\n",
       "      <td>8.5</td>\n",
       "      <td>23851471.0</td>\n",
       "      <td>101237.0</td>\n",
       "      <td>44</td>\n",
       "      <td>NaN</td>\n",
       "      <td>NaN</td>\n",
       "    </tr>\n",
       "    <tr>\n",
       "      <th>4</th>\n",
       "      <td>2020</td>\n",
       "      <td>Australia and New Zealand</td>\n",
       "      <td>Droughts</td>\n",
       "      <td>2.6</td>\n",
       "      <td>90652953.0</td>\n",
       "      <td>588447.0</td>\n",
       "      <td>23</td>\n",
       "      <td>NaN</td>\n",
       "      <td>NaN</td>\n",
       "    </tr>\n",
       "    <tr>\n",
       "      <th>...</th>\n",
       "      <td>...</td>\n",
       "      <td>...</td>\n",
       "      <td>...</td>\n",
       "      <td>...</td>\n",
       "      <td>...</td>\n",
       "      <td>...</td>\n",
       "      <td>...</td>\n",
       "      <td>...</td>\n",
       "      <td>...</td>\n",
       "    </tr>\n",
       "    <tr>\n",
       "      <th>699</th>\n",
       "      <td>2080</td>\n",
       "      <td>Western Europe</td>\n",
       "      <td>Storms</td>\n",
       "      <td>8.5</td>\n",
       "      <td>57400000.0</td>\n",
       "      <td>17668.0</td>\n",
       "      <td>28</td>\n",
       "      <td>NaN</td>\n",
       "      <td>13.0</td>\n",
       "    </tr>\n",
       "    <tr>\n",
       "      <th>700</th>\n",
       "      <td>2090</td>\n",
       "      <td>Western Europe</td>\n",
       "      <td>Storms</td>\n",
       "      <td>2.6</td>\n",
       "      <td>36900000.0</td>\n",
       "      <td>11358.0</td>\n",
       "      <td>18</td>\n",
       "      <td>NaN</td>\n",
       "      <td>10.0</td>\n",
       "    </tr>\n",
       "    <tr>\n",
       "      <th>701</th>\n",
       "      <td>2090</td>\n",
       "      <td>Western Europe</td>\n",
       "      <td>Storms</td>\n",
       "      <td>4.5</td>\n",
       "      <td>41000000.0</td>\n",
       "      <td>12620.0</td>\n",
       "      <td>20</td>\n",
       "      <td>NaN</td>\n",
       "      <td>11.0</td>\n",
       "    </tr>\n",
       "    <tr>\n",
       "      <th>702</th>\n",
       "      <td>2090</td>\n",
       "      <td>Western Europe</td>\n",
       "      <td>Storms</td>\n",
       "      <td>6.0</td>\n",
       "      <td>32800000.0</td>\n",
       "      <td>10096.0</td>\n",
       "      <td>16</td>\n",
       "      <td>NaN</td>\n",
       "      <td>12.0</td>\n",
       "    </tr>\n",
       "    <tr>\n",
       "      <th>703</th>\n",
       "      <td>2090</td>\n",
       "      <td>Western Europe</td>\n",
       "      <td>Storms</td>\n",
       "      <td>8.5</td>\n",
       "      <td>57400000.0</td>\n",
       "      <td>17668.0</td>\n",
       "      <td>28</td>\n",
       "      <td>NaN</td>\n",
       "      <td>13.0</td>\n",
       "    </tr>\n",
       "  </tbody>\n",
       "</table>\n",
       "<p>2550 rows × 9 columns</p>\n",
       "</div>"
      ],
      "text/plain": [
       "     Decade      UN_Geosheme_Subregion Disaster_Type  RCP  Financial_Impact  \\\n",
       "0      2020  Australia and New Zealand        Floods  2.6        47913440.0   \n",
       "1      2020  Australia and New Zealand        Floods  4.5        34041165.0   \n",
       "2      2020  Australia and New Zealand        Floods  6.0        13723660.0   \n",
       "3      2020  Australia and New Zealand        Floods  8.5        23851471.0   \n",
       "4      2020  Australia and New Zealand      Droughts  2.6        90652953.0   \n",
       "..      ...                        ...           ...  ...               ...   \n",
       "699    2080             Western Europe        Storms  8.5        57400000.0   \n",
       "700    2090             Western Europe        Storms  2.6        36900000.0   \n",
       "701    2090             Western Europe        Storms  4.5        41000000.0   \n",
       "702    2090             Western Europe        Storms  6.0        32800000.0   \n",
       "703    2090             Western Europe        Storms  8.5        57400000.0   \n",
       "\n",
       "     Human_Impact  DO  Rain    °C  \n",
       "0        584154.0  82   NaN   NaN  \n",
       "1        389372.0  23   NaN   NaN  \n",
       "2        830218.0   7   NaN   NaN  \n",
       "3        101237.0  44   NaN   NaN  \n",
       "4        588447.0  23   NaN   NaN  \n",
       "..            ...  ..   ...   ...  \n",
       "699       17668.0  28   NaN  13.0  \n",
       "700       11358.0  18   NaN  10.0  \n",
       "701       12620.0  20   NaN  11.0  \n",
       "702       10096.0  16   NaN  12.0  \n",
       "703       17668.0  28   NaN  13.0  \n",
       "\n",
       "[2550 rows x 9 columns]"
      ]
     },
     "execution_count": 8,
     "metadata": {},
     "output_type": "execute_result"
    }
   ],
   "source": [
    "df.to_csv('../data/input.csv',index=False)\n",
    "df"
   ]
  },
  {
   "cell_type": "markdown",
   "metadata": {},
   "source": [
    "### Duplicating temperatures form Storms data set"
   ]
  },
  {
   "cell_type": "code",
   "execution_count": null,
   "metadata": {},
   "outputs": [],
   "source": [
    "df_start = df.loc[(df.Decade < 2020)]\n",
    "df_end = df.loc[(df.Decade > 2010)]\n",
    "df_start[df_start.index.duplicated()]\n",
    "df_start['°C'] = df_start.groupby(['Decade', 'UN_Geosheme_Subregion'], sort=False)['°C'].apply(lambda x: x.ffill().bfill())\n",
    "df_end['°C'] = df_end.groupby(['Decade', 'UN_Geosheme_Subregion', 'RCP'], sort=False)['°C'].apply(lambda x: x.ffill().bfill())\n",
    "df = df_start.append(df_end)"
   ]
  }
 ],
 "metadata": {
  "kernelspec": {
   "display_name": "Python 3",
   "language": "python",
   "name": "python3"
  },
  "language_info": {
   "codemirror_mode": {
    "name": "ipython",
    "version": 3
   },
   "file_extension": ".py",
   "mimetype": "text/x-python",
   "name": "python",
   "nbconvert_exporter": "python",
   "pygments_lexer": "ipython3",
   "version": "3.7.3"
  }
 },
 "nbformat": 4,
 "nbformat_minor": 4
}
