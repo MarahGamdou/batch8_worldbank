{
 "cells": [
  {
   "cell_type": "markdown",
   "metadata": {},
   "source": [
    "# Export for Dashboard"
   ]
  },
  {
   "cell_type": "code",
   "execution_count": 102,
   "metadata": {},
   "outputs": [],
   "source": [
    "# For multiple output per cell\n",
    "from IPython.core.interactiveshell import InteractiveShell\n",
    "InteractiveShell.ast_node_interactivity = \"all\""
   ]
  },
  {
   "cell_type": "code",
   "execution_count": 79,
   "metadata": {},
   "outputs": [],
   "source": [
    "#DATASET_FOLDER = '/media/data-nvme/dev/datasets/WorldBank/'\n",
    "DATASET_FOLDER = '../../datasets/precipitation/'\n",
    "\n",
    "SPARK_MASTER = 'spark://192.168.0.9:7077'\n",
    "APP_NAME = 'Merge PRCP GKP'\n",
    "input_folder = DATASET_FOLDER\n",
    "output = DATASET_FOLDER + '../wb_gkp_precipitation'"
   ]
  },
  {
   "cell_type": "code",
   "execution_count": 80,
   "metadata": {},
   "outputs": [],
   "source": [
    "import os\n",
    "import pandas as pd"
   ]
  },
  {
   "cell_type": "code",
   "execution_count": 145,
   "metadata": {},
   "outputs": [],
   "source": [
    "import pandas as pd\n",
    "from pyspark import SparkContext\n",
    "#from pyspark import SparkConf\n",
    "from pyspark.sql import SparkSession\n",
    "#from pyspark.sql.window import Window\n",
    "from pyspark.sql.types import FloatType\n",
    "import pyspark.sql.functions as F\n",
    "\n",
    "import shutil"
   ]
  },
  {
   "cell_type": "markdown",
   "metadata": {},
   "source": [
    "## Connect to Spark"
   ]
  },
  {
   "cell_type": "code",
   "execution_count": 116,
   "metadata": {},
   "outputs": [
    {
     "name": "stdout",
     "output_type": "stream",
     "text": [
      "Create Spark session\n"
     ]
    }
   ],
   "source": [
    "print('Create Spark session')\n",
    "spark = SparkSession.builder.master(SPARK_MASTER).appName(APP_NAME).getOrCreate()\n",
    "sc = spark.sparkContext"
   ]
  },
  {
   "cell_type": "code",
   "execution_count": 1,
   "metadata": {},
   "outputs": [],
   "source": [
    "#!ls /media/data-nvme/dev/datasets/WorldBank/"
   ]
  },
  {
   "cell_type": "code",
   "execution_count": 126,
   "metadata": {},
   "outputs": [],
   "source": [
    "emdat = spark.read.format('csv').option('header',True).option('multiLine', True) \\\n",
    "    .load('/media/data-nvme/dev/datasets/WorldBank/' + 'emdat_public_2020_09_12_query_uid-tAnKEX-floods_only.csv')"
   ]
  },
  {
   "cell_type": "code",
   "execution_count": 143,
   "metadata": {},
   "outputs": [
    {
     "data": {
      "text/plain": [
       "['Dis No',\n",
       " 'Year',\n",
       " 'Seq',\n",
       " 'Disaster Subtype',\n",
       " 'Disaster Subsubtype',\n",
       " 'Event Name',\n",
       " 'Entry Criteria',\n",
       " 'Country',\n",
       " 'ISO',\n",
       " 'Region',\n",
       " 'Continent',\n",
       " 'Location',\n",
       " 'Origin',\n",
       " 'Associated Dis',\n",
       " 'Associated Dis2',\n",
       " 'OFDA Response',\n",
       " 'Appeal',\n",
       " 'Declaration',\n",
       " 'Aid Contribution',\n",
       " 'Dis Mag Value',\n",
       " 'Dis Mag Scale',\n",
       " 'Latitude',\n",
       " 'Longitude',\n",
       " 'Local Time',\n",
       " 'River Basin',\n",
       " 'Total Deaths',\n",
       " 'No Injured',\n",
       " 'No Affected',\n",
       " 'No Homeless',\n",
       " 'Total Affected',\n",
       " \"Reconstruction Costs ('000 US$)\",\n",
       " \"Insured Damages ('000 US$)\",\n",
       " \"Total Damages ('000 US$)\",\n",
       " 'CPI',\n",
       " 'date',\n",
       " 'decade']"
      ]
     },
     "execution_count": 143,
     "metadata": {},
     "output_type": "execute_result"
    }
   ],
   "source": [
    "emdat.columns"
   ]
  },
  {
   "cell_type": "code",
   "execution_count": 191,
   "metadata": {},
   "outputs": [
    {
     "data": {
      "text/plain": [
       "[Row(Dis No='1906-0023-BEL', Year='1906', Seq='23', Disaster Subtype=None, Disaster Subsubtype=None, Event Name=None, Entry Criteria='Govern', Country='Belgium', ISO='BEL', Region='Western Europe', Continent='Europe', Location='Louvain region', Origin=None, Associated Dis=None, Associated Dis2=None, OFDA Response=None, Appeal=None, Declaration=None, Aid Contribution=None, Dis Mag Value=None, Dis Mag Scale='Km2', Latitude=None, Longitude=None, Local Time=None, River Basin=None, Total Deaths=6.0, No Injured=None, No Affected=None, No Homeless=None, Total Affected=None, Reconstruction Costs ('000 US$)=None, Insured Damages ('000 US$)=None, Total Damages ('000 US$)=None, CPI='3.5223001018494', date='1906-5-14', decade='1900'),\n",
       " Row(Dis No='1906-0024-BEL', Year='1906', Seq='24', Disaster Subtype=None, Disaster Subsubtype=None, Event Name=None, Entry Criteria='Govern', Country='Belgium', ISO='BEL', Region='Western Europe', Continent='Europe', Location=None, Origin=None, Associated Dis=None, Associated Dis2=None, OFDA Response=None, Appeal=None, Declaration=None, Aid Contribution=None, Dis Mag Value=None, Dis Mag Scale='Km2', Latitude=None, Longitude=None, Local Time=None, River Basin=None, Total Deaths=None, No Injured=None, No Affected=None, No Homeless=None, Total Affected=None, Reconstruction Costs ('000 US$)=None, Insured Damages ('000 US$)=None, Total Damages ('000 US$)=None, CPI='3.5223001018494', date='1906-4-15', decade='1900'),\n",
       " Row(Dis No='1920-0005-DFR', Year='1920', Seq='5', Disaster Subtype=None, Disaster Subsubtype=None, Event Name=None, Entry Criteria='Declar', Country='Germany Fed Rep', ISO='DFR', Region='Western Europe', Continent='Europe', Location='Danube area', Origin=None, Associated Dis=None, Associated Dis2=None, OFDA Response=None, Appeal=None, Declaration=None, Aid Contribution=None, Dis Mag Value=None, Dis Mag Scale='Km2', Latitude=None, Longitude=None, Local Time=None, River Basin=None, Total Deaths=None, No Injured=None, No Affected=None, No Homeless=None, Total Affected=None, Reconstruction Costs ('000 US$)=None, Insured Damages ('000 US$)=None, Total Damages ('000 US$)=20000.0, CPI='7.8534246715309', date='1920-8-15', decade='1920')]"
      ]
     },
     "execution_count": 191,
     "metadata": {},
     "output_type": "execute_result"
    }
   ],
   "source": [
    "#emdat = emdat.withColumn('decade',  F.concat(F.col('Year').substr(0, 3) , F.lit('0-') , F.col('Year').substr(0, 3), F.lit('9')))\n",
    "emdat = emdat.withColumn('decade',  F.concat(F.col('Year').substr(0, 3) , F.lit('0')))\n",
    "emdat.take(3)"
   ]
  },
  {
   "cell_type": "code",
   "execution_count": 192,
   "metadata": {},
   "outputs": [
    {
     "name": "stdout",
     "output_type": "stream",
     "text": [
      "Cast string to float\n"
     ]
    }
   ],
   "source": [
    "###### Cast Type\n",
    "print('Cast string to float')\n",
    "emdat = emdat.withColumn(\"Total Deaths\", emdat[\"Total Deaths\"].cast(FloatType()))\\\n",
    "    .withColumn(\"Total Damages ('000 US$)\", emdat[\"Total Damages ('000 US$)\"].cast(FloatType()))\n",
    "emdat.createOrReplaceTempView(\"emdat\")\n"
   ]
  },
  {
   "cell_type": "code",
   "execution_count": 193,
   "metadata": {},
   "outputs": [
    {
     "data": {
      "text/plain": [
       "5226"
      ]
     },
     "execution_count": 193,
     "metadata": {},
     "output_type": "execute_result"
    }
   ],
   "source": [
    "emdat.count()"
   ]
  },
  {
   "cell_type": "code",
   "execution_count": 194,
   "metadata": {},
   "outputs": [],
   "source": [
    "#dfp = emdat.toPandas()"
   ]
  },
  {
   "cell_type": "code",
   "execution_count": 195,
   "metadata": {},
   "outputs": [],
   "source": [
    "#dfp[['Dis No', \"Total Deaths\"]]"
   ]
  },
  {
   "cell_type": "code",
   "execution_count": 196,
   "metadata": {},
   "outputs": [],
   "source": [
    "#dfp[dfp['Dis No'] == '1906-0023-BEL'] #\") #1906-0023-BEL \t1950-0007-CHN"
   ]
  },
  {
   "cell_type": "code",
   "execution_count": 197,
   "metadata": {},
   "outputs": [],
   "source": [
    "# spark.sql(\"\"\"\n",
    "# SELECT *\n",
    "# FROM emdat\n",
    "# WHERE `Dis No` == '1950-0007-CHN'\n",
    "# \"\"\").show(3)"
   ]
  },
  {
   "cell_type": "code",
   "execution_count": 198,
   "metadata": {},
   "outputs": [],
   "source": [
    "# spark.sql(\"\"\"\n",
    "# SELECT *\n",
    "# FROM emdat\n",
    "# WHERE `Dis No` LIKE '%BEL%'\n",
    "# \"\"\").show(3)"
   ]
  },
  {
   "cell_type": "code",
   "execution_count": 213,
   "metadata": {},
   "outputs": [
    {
     "data": {
      "text/html": [
       "<div>\n",
       "<style scoped>\n",
       "    .dataframe tbody tr th:only-of-type {\n",
       "        vertical-align: middle;\n",
       "    }\n",
       "\n",
       "    .dataframe tbody tr th {\n",
       "        vertical-align: top;\n",
       "    }\n",
       "\n",
       "    .dataframe thead th {\n",
       "        text-align: right;\n",
       "    }\n",
       "</style>\n",
       "<table border=\"1\" class=\"dataframe\">\n",
       "  <thead>\n",
       "    <tr style=\"text-align: right;\">\n",
       "      <th></th>\n",
       "      <th>Decade</th>\n",
       "      <th>UN_Geosheme_Subregion</th>\n",
       "      <th>Disaster_Type</th>\n",
       "      <th>RCP</th>\n",
       "      <th>Financial_Impact</th>\n",
       "      <th>Human_Impact</th>\n",
       "      <th>DO</th>\n",
       "      <th>Rain</th>\n",
       "    </tr>\n",
       "  </thead>\n",
       "  <tbody>\n",
       "    <tr>\n",
       "      <th>5</th>\n",
       "      <td>1920</td>\n",
       "      <td>Northern America</td>\n",
       "      <td>Flood</td>\n",
       "      <td>past</td>\n",
       "      <td>230.0</td>\n",
       "      <td>246.0</td>\n",
       "      <td>1</td>\n",
       "      <td>0</td>\n",
       "    </tr>\n",
       "    <tr>\n",
       "      <th>10</th>\n",
       "      <td>1930</td>\n",
       "      <td>Eastern Asia</td>\n",
       "      <td>Flood</td>\n",
       "      <td>past</td>\n",
       "      <td>1400000.0</td>\n",
       "      <td>4200933.0</td>\n",
       "      <td>3</td>\n",
       "      <td>0</td>\n",
       "    </tr>\n",
       "    <tr>\n",
       "      <th>11</th>\n",
       "      <td>1930</td>\n",
       "      <td>Northern America</td>\n",
       "      <td>Flood</td>\n",
       "      <td>past</td>\n",
       "      <td>438000.0</td>\n",
       "      <td>337.0</td>\n",
       "      <td>2</td>\n",
       "      <td>0</td>\n",
       "    </tr>\n",
       "    <tr>\n",
       "      <th>14</th>\n",
       "      <td>1940</td>\n",
       "      <td>Central America</td>\n",
       "      <td>Flood</td>\n",
       "      <td>past</td>\n",
       "      <td>15000.0</td>\n",
       "      <td>40000.0</td>\n",
       "      <td>1</td>\n",
       "      <td>0</td>\n",
       "    </tr>\n",
       "    <tr>\n",
       "      <th>24</th>\n",
       "      <td>1950</td>\n",
       "      <td>Northern America</td>\n",
       "      <td>Flood</td>\n",
       "      <td>past</td>\n",
       "      <td>1129000.0</td>\n",
       "      <td>149.0</td>\n",
       "      <td>4</td>\n",
       "      <td>0</td>\n",
       "    </tr>\n",
       "    <tr>\n",
       "      <th>...</th>\n",
       "      <td>...</td>\n",
       "      <td>...</td>\n",
       "      <td>...</td>\n",
       "      <td>...</td>\n",
       "      <td>...</td>\n",
       "      <td>...</td>\n",
       "      <td>...</td>\n",
       "      <td>...</td>\n",
       "    </tr>\n",
       "    <tr>\n",
       "      <th>154</th>\n",
       "      <td>2020</td>\n",
       "      <td>Eastern Asia</td>\n",
       "      <td>Flood</td>\n",
       "      <td>past</td>\n",
       "      <td>6100000.0</td>\n",
       "      <td>256.0</td>\n",
       "      <td>5</td>\n",
       "      <td>0</td>\n",
       "    </tr>\n",
       "    <tr>\n",
       "      <th>158</th>\n",
       "      <td>2020</td>\n",
       "      <td>Northern Africa</td>\n",
       "      <td>Flood</td>\n",
       "      <td>past</td>\n",
       "      <td>76000.0</td>\n",
       "      <td>130.0</td>\n",
       "      <td>2</td>\n",
       "      <td>0</td>\n",
       "    </tr>\n",
       "    <tr>\n",
       "      <th>159</th>\n",
       "      <td>2020</td>\n",
       "      <td>South America</td>\n",
       "      <td>Flood</td>\n",
       "      <td>past</td>\n",
       "      <td>157000.0</td>\n",
       "      <td>195.0</td>\n",
       "      <td>8</td>\n",
       "      <td>0</td>\n",
       "    </tr>\n",
       "    <tr>\n",
       "      <th>160</th>\n",
       "      <td>2020</td>\n",
       "      <td>South-Eastern Asia</td>\n",
       "      <td>Flood</td>\n",
       "      <td>past</td>\n",
       "      <td>28900.0</td>\n",
       "      <td>87.0</td>\n",
       "      <td>16</td>\n",
       "      <td>0</td>\n",
       "    </tr>\n",
       "    <tr>\n",
       "      <th>161</th>\n",
       "      <td>2020</td>\n",
       "      <td>Southern Asia</td>\n",
       "      <td>Flood</td>\n",
       "      <td>past</td>\n",
       "      <td>1300000.0</td>\n",
       "      <td>1870.0</td>\n",
       "      <td>20</td>\n",
       "      <td>0</td>\n",
       "    </tr>\n",
       "  </tbody>\n",
       "</table>\n",
       "<p>120 rows × 8 columns</p>\n",
       "</div>"
      ],
      "text/plain": [
       "    Decade UN_Geosheme_Subregion Disaster_Type   RCP  Financial_Impact  \\\n",
       "5     1920      Northern America         Flood  past             230.0   \n",
       "10    1930          Eastern Asia         Flood  past         1400000.0   \n",
       "11    1930      Northern America         Flood  past          438000.0   \n",
       "14    1940       Central America         Flood  past           15000.0   \n",
       "24    1950      Northern America         Flood  past         1129000.0   \n",
       "..     ...                   ...           ...   ...               ...   \n",
       "154   2020          Eastern Asia         Flood  past         6100000.0   \n",
       "158   2020       Northern Africa         Flood  past           76000.0   \n",
       "159   2020         South America         Flood  past          157000.0   \n",
       "160   2020    South-Eastern Asia         Flood  past           28900.0   \n",
       "161   2020         Southern Asia         Flood  past         1300000.0   \n",
       "\n",
       "     Human_Impact  DO Rain  \n",
       "5           246.0   1    0  \n",
       "10      4200933.0   3    0  \n",
       "11          337.0   2    0  \n",
       "14        40000.0   1    0  \n",
       "24          149.0   4    0  \n",
       "..            ...  ..  ...  \n",
       "154         256.0   5    0  \n",
       "158         130.0   2    0  \n",
       "159         195.0   8    0  \n",
       "160          87.0  16    0  \n",
       "161        1870.0  20    0  \n",
       "\n",
       "[120 rows x 8 columns]"
      ]
     },
     "execution_count": 213,
     "metadata": {},
     "output_type": "execute_result"
    }
   ],
   "source": [
    "#from pyspark.sql.window import Window\n",
    "#windowSpec = Window.partitionBy(['Region']).orderBy(F.col(\"Year\"))\n",
    "#df_rolling = emdat.withColumn('last_'+str(d)+'_days_sum', F.sum(\"Total Damages ('000 US$)\").over(windowSpec.rangeBetween(-days(d), 0)))\n",
    "emdat_agregate = spark.sql(\"\"\"\n",
    "SELECT decade as Decade, region as UN_Geosheme_Subregion, 'Flood' as Disaster_Type, 'past' as RCP, sum(`Total Damages ('000 US$)`) as Financial_Impact, sum(`Total Deaths`) as Human_Impact, count(`Dis No`) as DO, '0' as Rain\n",
    "FROM emdat\n",
    "GROUP BY decade, region\n",
    "ORDER BY decade, region\n",
    "\"\"\")\n",
    "dfp = emdat_agregate.toPandas()\n",
    "dfp.dropna()"
   ]
  },
  {
   "cell_type": "code",
   "execution_count": 214,
   "metadata": {},
   "outputs": [],
   "source": [
    "dfp = dfp.fillna({'Financial_Impact' : 0, 'Human_Impact' : 0})"
   ]
  },
  {
   "cell_type": "code",
   "execution_count": 215,
   "metadata": {},
   "outputs": [
    {
     "data": {
      "text/html": [
       "<div>\n",
       "<style scoped>\n",
       "    .dataframe tbody tr th:only-of-type {\n",
       "        vertical-align: middle;\n",
       "    }\n",
       "\n",
       "    .dataframe tbody tr th {\n",
       "        vertical-align: top;\n",
       "    }\n",
       "\n",
       "    .dataframe thead th {\n",
       "        text-align: right;\n",
       "    }\n",
       "</style>\n",
       "<table border=\"1\" class=\"dataframe\">\n",
       "  <thead>\n",
       "    <tr style=\"text-align: right;\">\n",
       "      <th></th>\n",
       "      <th>Decade</th>\n",
       "      <th>UN_Geosheme_Subregion</th>\n",
       "      <th>Disaster_Type</th>\n",
       "      <th>RCP</th>\n",
       "      <th>Financial_Impact</th>\n",
       "      <th>Human_Impact</th>\n",
       "      <th>DO</th>\n",
       "      <th>Rain</th>\n",
       "    </tr>\n",
       "  </thead>\n",
       "  <tbody>\n",
       "    <tr>\n",
       "      <th>0</th>\n",
       "      <td>1900</td>\n",
       "      <td>Caribbean</td>\n",
       "      <td>Flood</td>\n",
       "      <td>past</td>\n",
       "      <td>0.0</td>\n",
       "      <td>300.0</td>\n",
       "      <td>1</td>\n",
       "      <td>0</td>\n",
       "    </tr>\n",
       "    <tr>\n",
       "      <th>1</th>\n",
       "      <td>1900</td>\n",
       "      <td>Northern America</td>\n",
       "      <td>Flood</td>\n",
       "      <td>past</td>\n",
       "      <td>0.0</td>\n",
       "      <td>72.0</td>\n",
       "      <td>1</td>\n",
       "      <td>0</td>\n",
       "    </tr>\n",
       "    <tr>\n",
       "      <th>2</th>\n",
       "      <td>1900</td>\n",
       "      <td>Western Europe</td>\n",
       "      <td>Flood</td>\n",
       "      <td>past</td>\n",
       "      <td>0.0</td>\n",
       "      <td>6.0</td>\n",
       "      <td>2</td>\n",
       "      <td>0</td>\n",
       "    </tr>\n",
       "    <tr>\n",
       "      <th>3</th>\n",
       "      <td>1910</td>\n",
       "      <td>Eastern Asia</td>\n",
       "      <td>Flood</td>\n",
       "      <td>past</td>\n",
       "      <td>0.0</td>\n",
       "      <td>1379.0</td>\n",
       "      <td>1</td>\n",
       "      <td>0</td>\n",
       "    </tr>\n",
       "    <tr>\n",
       "      <th>4</th>\n",
       "      <td>1920</td>\n",
       "      <td>Northern Africa</td>\n",
       "      <td>Flood</td>\n",
       "      <td>past</td>\n",
       "      <td>0.0</td>\n",
       "      <td>3000.0</td>\n",
       "      <td>1</td>\n",
       "      <td>0</td>\n",
       "    </tr>\n",
       "    <tr>\n",
       "      <th>...</th>\n",
       "      <td>...</td>\n",
       "      <td>...</td>\n",
       "      <td>...</td>\n",
       "      <td>...</td>\n",
       "      <td>...</td>\n",
       "      <td>...</td>\n",
       "      <td>...</td>\n",
       "      <td>...</td>\n",
       "    </tr>\n",
       "    <tr>\n",
       "      <th>159</th>\n",
       "      <td>2020</td>\n",
       "      <td>South America</td>\n",
       "      <td>Flood</td>\n",
       "      <td>past</td>\n",
       "      <td>157000.0</td>\n",
       "      <td>195.0</td>\n",
       "      <td>8</td>\n",
       "      <td>0</td>\n",
       "    </tr>\n",
       "    <tr>\n",
       "      <th>160</th>\n",
       "      <td>2020</td>\n",
       "      <td>South-Eastern Asia</td>\n",
       "      <td>Flood</td>\n",
       "      <td>past</td>\n",
       "      <td>28900.0</td>\n",
       "      <td>87.0</td>\n",
       "      <td>16</td>\n",
       "      <td>0</td>\n",
       "    </tr>\n",
       "    <tr>\n",
       "      <th>161</th>\n",
       "      <td>2020</td>\n",
       "      <td>Southern Asia</td>\n",
       "      <td>Flood</td>\n",
       "      <td>past</td>\n",
       "      <td>1300000.0</td>\n",
       "      <td>1870.0</td>\n",
       "      <td>20</td>\n",
       "      <td>0</td>\n",
       "    </tr>\n",
       "    <tr>\n",
       "      <th>163</th>\n",
       "      <td>2020</td>\n",
       "      <td>Western Africa</td>\n",
       "      <td>Flood</td>\n",
       "      <td>past</td>\n",
       "      <td>0.0</td>\n",
       "      <td>63.0</td>\n",
       "      <td>3</td>\n",
       "      <td>0</td>\n",
       "    </tr>\n",
       "    <tr>\n",
       "      <th>164</th>\n",
       "      <td>2020</td>\n",
       "      <td>Western Asia</td>\n",
       "      <td>Flood</td>\n",
       "      <td>past</td>\n",
       "      <td>0.0</td>\n",
       "      <td>201.0</td>\n",
       "      <td>5</td>\n",
       "      <td>0</td>\n",
       "    </tr>\n",
       "  </tbody>\n",
       "</table>\n",
       "<p>151 rows × 8 columns</p>\n",
       "</div>"
      ],
      "text/plain": [
       "    Decade UN_Geosheme_Subregion Disaster_Type   RCP  Financial_Impact  \\\n",
       "0     1900             Caribbean         Flood  past               0.0   \n",
       "1     1900      Northern America         Flood  past               0.0   \n",
       "2     1900        Western Europe         Flood  past               0.0   \n",
       "3     1910          Eastern Asia         Flood  past               0.0   \n",
       "4     1920       Northern Africa         Flood  past               0.0   \n",
       "..     ...                   ...           ...   ...               ...   \n",
       "159   2020         South America         Flood  past          157000.0   \n",
       "160   2020    South-Eastern Asia         Flood  past           28900.0   \n",
       "161   2020         Southern Asia         Flood  past         1300000.0   \n",
       "163   2020        Western Africa         Flood  past               0.0   \n",
       "164   2020          Western Asia         Flood  past               0.0   \n",
       "\n",
       "     Human_Impact  DO Rain  \n",
       "0           300.0   1    0  \n",
       "1            72.0   1    0  \n",
       "2             6.0   2    0  \n",
       "3          1379.0   1    0  \n",
       "4          3000.0   1    0  \n",
       "..            ...  ..  ...  \n",
       "159         195.0   8    0  \n",
       "160          87.0  16    0  \n",
       "161        1870.0  20    0  \n",
       "163          63.0   3    0  \n",
       "164         201.0   5    0  \n",
       "\n",
       "[151 rows x 8 columns]"
      ]
     },
     "execution_count": 215,
     "metadata": {},
     "output_type": "execute_result"
    }
   ],
   "source": [
    "dfp.query(\"Human_Impact > 0\")"
   ]
  },
  {
   "cell_type": "code",
   "execution_count": 216,
   "metadata": {},
   "outputs": [
    {
     "name": "stdout",
     "output_type": "stream",
     "text": [
      "+------+---------------------+-------------+----+----------------+------------+---+----+\n",
      "|Decade|UN_Geosheme_Subregion|Disaster_Type| RCP|Financial_Impact|Human_Impact| DO|Rain|\n",
      "+------+---------------------+-------------+----+----------------+------------+---+----+\n",
      "|  1920|     Northern America|        Flood|past|           230.0|       246.0|  1|   0|\n",
      "|  1920|       Western Europe|        Flood|past|         70000.0|        null|  3|   0|\n",
      "|  1930|         Eastern Asia|        Flood|past|       1400000.0|   4200933.0|  3|   0|\n",
      "+------+---------------------+-------------+----+----------------+------------+---+----+\n",
      "only showing top 3 rows\n",
      "\n"
     ]
    }
   ],
   "source": [
    "emdat_agregate.createOrReplaceTempView(\"emdat_agregate\")\n",
    "\n",
    "spark.sql(\"\"\"\n",
    "SELECT *\n",
    "FROM emdat_agregate\n",
    "WHERE Financial_Impact > 0\n",
    "\"\"\").show(3)"
   ]
  },
  {
   "cell_type": "code",
   "execution_count": 217,
   "metadata": {},
   "outputs": [],
   "source": [
    "#emdat_agregate.write.csv(f'{DATASET_FOLDER}../flood_history_agregates.csv', header=True)\n",
    "dfp.to_csv(f'{DATASET_FOLDER}../flood_history_agregates.csv.gz', index=False ,compression='gzip')"
   ]
  },
  {
   "cell_type": "code",
   "execution_count": null,
   "metadata": {},
   "outputs": [],
   "source": [
    "sc.stop()"
   ]
  },
  {
   "cell_type": "code",
   "execution_count": null,
   "metadata": {},
   "outputs": [],
   "source": []
  }
 ],
 "metadata": {
  "kernelspec": {
   "display_name": "pySpark",
   "language": "python",
   "name": "pyspark"
  },
  "language_info": {
   "codemirror_mode": {
    "name": "ipython",
    "version": 3
   },
   "file_extension": ".py",
   "mimetype": "text/x-python",
   "name": "python",
   "nbconvert_exporter": "python",
   "pygments_lexer": "ipython3",
   "version": "3.8.6"
  }
 },
 "nbformat": 4,
 "nbformat_minor": 4
}
