{
 "cells": [
  {
   "cell_type": "markdown",
   "metadata": {},
   "source": [
    "# Build features for projection"
   ]
  },
  {
   "cell_type": "code",
   "execution_count": 1,
   "metadata": {},
   "outputs": [],
   "source": [
    "# For multiple output per cell\n",
    "from IPython.core.interactiveshell import InteractiveShell\n",
    "InteractiveShell.ast_node_interactivity = \"all\""
   ]
  },
  {
   "cell_type": "code",
   "execution_count": 2,
   "metadata": {},
   "outputs": [],
   "source": [
    "#DATASET_FOLDER = '/media/data-nvme/dev/datasets/WorldBank/'\n",
    "DATASET_FOLDER = '../../datasets/'\n",
    "\n",
    "SPARK_MASTER = 'spark://192.168.0.9:7077'\n",
    "APP_NAME = 'Build features for projection'\n",
    "input_folder = DATASET_FOLDER\n",
    "output = DATASET_FOLDER + '../wb_gkp_precipitation'"
   ]
  },
  {
   "cell_type": "code",
   "execution_count": 3,
   "metadata": {},
   "outputs": [],
   "source": [
    "import pandas as pd"
   ]
  },
  {
   "cell_type": "code",
   "execution_count": 4,
   "metadata": {},
   "outputs": [
    {
     "data": {
      "text/html": [
       "<div>\n",
       "<style scoped>\n",
       "    .dataframe tbody tr th:only-of-type {\n",
       "        vertical-align: middle;\n",
       "    }\n",
       "\n",
       "    .dataframe tbody tr th {\n",
       "        vertical-align: top;\n",
       "    }\n",
       "\n",
       "    .dataframe thead th {\n",
       "        text-align: right;\n",
       "    }\n",
       "</style>\n",
       "<table border=\"1\" class=\"dataframe\">\n",
       "  <thead>\n",
       "    <tr style=\"text-align: right;\">\n",
       "      <th></th>\n",
       "      <th>year</th>\n",
       "      <th>month</th>\n",
       "      <th>model</th>\n",
       "      <th>statistics</th>\n",
       "      <th>ISO3</th>\n",
       "      <th>projection_rcp</th>\n",
       "      <th>daily_rain_max_25_years_mm</th>\n",
       "      <th>daily_rain_max_10_years_mm</th>\n",
       "      <th>5-day_rain_sum_max_10_years_mm</th>\n",
       "      <th>5-day_rain_sum_max_25_years_mm</th>\n",
       "      <th>largest_month_rain_10_years_mm</th>\n",
       "      <th>largest_month_rain_25_years_mm</th>\n",
       "    </tr>\n",
       "  </thead>\n",
       "  <tbody>\n",
       "    <tr>\n",
       "      <th>0</th>\n",
       "      <td>2020-2039</td>\n",
       "      <td>NaN</td>\n",
       "      <td>Ensemble (10th Percentile)</td>\n",
       "      <td>Annual Anomaly</td>\n",
       "      <td>ARG</td>\n",
       "      <td>rcp60</td>\n",
       "      <td>-19.541</td>\n",
       "      <td>-16.471</td>\n",
       "      <td>-31.162</td>\n",
       "      <td>-36.832</td>\n",
       "      <td>-84.802</td>\n",
       "      <td>-103.96</td>\n",
       "    </tr>\n",
       "  </tbody>\n",
       "</table>\n",
       "</div>"
      ],
      "text/plain": [
       "        year  month                       model      statistics ISO3  \\\n",
       "0  2020-2039    NaN  Ensemble (10th Percentile)  Annual Anomaly  ARG   \n",
       "\n",
       "  projection_rcp  daily_rain_max_25_years_mm  daily_rain_max_10_years_mm  \\\n",
       "0          rcp60                     -19.541                     -16.471   \n",
       "\n",
       "   5-day_rain_sum_max_10_years_mm  5-day_rain_sum_max_25_years_mm  \\\n",
       "0                         -31.162                         -36.832   \n",
       "\n",
       "   largest_month_rain_10_years_mm  largest_month_rain_25_years_mm  \n",
       "0                         -84.802                         -103.96  "
      ]
     },
     "execution_count": 4,
     "metadata": {},
     "output_type": "execute_result"
    }
   ],
   "source": [
    "df = pd.read_csv(f'{DATASET_FOLDER}projection_preciptation_yearly_merged-2020-12-02.csv.gz')\n",
    "df.head(1)"
   ]
  },
  {
   "cell_type": "markdown",
   "metadata": {},
   "source": [
    "### Keep ony one climate model"
   ]
  },
  {
   "cell_type": "code",
   "execution_count": 5,
   "metadata": {},
   "outputs": [],
   "source": [
    "#df.model.unique()"
   ]
  },
  {
   "cell_type": "code",
   "execution_count": 6,
   "metadata": {},
   "outputs": [],
   "source": [
    "df = df[df['model'] == 'ipsl_cm5a_mr']"
   ]
  },
  {
   "cell_type": "markdown",
   "metadata": {},
   "source": [
    "### Keep only the minimum features"
   ]
  },
  {
   "cell_type": "code",
   "execution_count": 7,
   "metadata": {},
   "outputs": [],
   "source": [
    "#df.columns"
   ]
  },
  {
   "cell_type": "code",
   "execution_count": 8,
   "metadata": {},
   "outputs": [],
   "source": [
    "df = df[['year', 'ISO3', 'projection_rcp', '5-day_rain_sum_max_10_years_mm', '5-day_rain_sum_max_25_years_mm']]"
   ]
  },
  {
   "cell_type": "code",
   "execution_count": 9,
   "metadata": {},
   "outputs": [],
   "source": [
    "#df.head(3)"
   ]
  },
  {
   "cell_type": "markdown",
   "metadata": {},
   "source": [
    "### Compute rare precipitation events \n",
    "\n",
    "We will compute an occurence of rare precipitation events.\n",
    "\n",
    "- Every random 10 years we will consider that there will be a flood due to rainfall corresponding to the projected Maximum 5-day Rainfall (10-yr RL)\n",
    "- Every random 20 years we will consider that there will be a flood due to rainfall corresponding to the projected Maximum 5-day Rainfall (25-yr RL) 20 and not 25 because we have period of 20 years so it is easier. TODO : compute 25 yr RL"
   ]
  },
  {
   "cell_type": "code",
   "execution_count": 10,
   "metadata": {},
   "outputs": [],
   "source": [
    "df_10y = df[['year', 'ISO3', 'projection_rcp', '5-day_rain_sum_max_10_years_mm']]\n",
    "df_25y = df[['year', 'ISO3', 'projection_rcp', '5-day_rain_sum_max_25_years_mm']]"
   ]
  },
  {
   "cell_type": "code",
   "execution_count": 11,
   "metadata": {},
   "outputs": [],
   "source": [
    "#df_10y.sort_values(by=['ISO3', 'projection_rcp', 'year']).head(5)"
   ]
  },
  {
   "cell_type": "code",
   "execution_count": 12,
   "metadata": {},
   "outputs": [],
   "source": [
    "import random\n",
    "\n",
    "df_10y_new = pd.DataFrame()\n",
    "for i, row in df_10y.iterrows():\n",
    "    # Create an event on the first decade\n",
    "    # Create a random year of the event\n",
    "    year = row['year'][:3] + str(random.randint(0, 9))\n",
    "    # Build the new entry\n",
    "    new_row = {'year' : year,\n",
    "               'ISO3' : row['ISO3'],\n",
    "               'projection_rcp' : row.projection_rcp,\n",
    "               'rain': row['5-day_rain_sum_max_10_years_mm']}\n",
    "    # Add the entry\n",
    "    df_10y_new = df_10y_new.append(new_row, ignore_index=True)\n",
    "    # Create a second event on the next decade\n",
    "    year = str(int(row['year'][:3])+1) + str(random.randint(0, 9))\n",
    "    new_row = {'year' : year,\n",
    "           'ISO3' : row['ISO3'],\n",
    "           'projection_rcp' : row.projection_rcp,\n",
    "           'rain': row['5-day_rain_sum_max_10_years_mm']}\n",
    "    df_10y_new = df_10y_new.append(new_row, ignore_index=True)\n",
    "#df_10y_new.head(10)"
   ]
  },
  {
   "cell_type": "code",
   "execution_count": 13,
   "metadata": {},
   "outputs": [
    {
     "data": {
      "text/html": [
       "<div>\n",
       "<style scoped>\n",
       "    .dataframe tbody tr th:only-of-type {\n",
       "        vertical-align: middle;\n",
       "    }\n",
       "\n",
       "    .dataframe tbody tr th {\n",
       "        vertical-align: top;\n",
       "    }\n",
       "\n",
       "    .dataframe thead th {\n",
       "        text-align: right;\n",
       "    }\n",
       "</style>\n",
       "<table border=\"1\" class=\"dataframe\">\n",
       "  <thead>\n",
       "    <tr style=\"text-align: right;\">\n",
       "      <th></th>\n",
       "      <th>year</th>\n",
       "      <th>ISO3</th>\n",
       "      <th>projection_rcp</th>\n",
       "      <th>5-day_rain_sum_max_25_years_mm</th>\n",
       "    </tr>\n",
       "  </thead>\n",
       "  <tbody>\n",
       "    <tr>\n",
       "      <th>61528</th>\n",
       "      <td>2020-2039</td>\n",
       "      <td>AFG</td>\n",
       "      <td>rcp26</td>\n",
       "      <td>13.5017</td>\n",
       "    </tr>\n",
       "    <tr>\n",
       "      <th>22146</th>\n",
       "      <td>2040-2059</td>\n",
       "      <td>AFG</td>\n",
       "      <td>rcp26</td>\n",
       "      <td>28.9298</td>\n",
       "    </tr>\n",
       "    <tr>\n",
       "      <th>28831</th>\n",
       "      <td>2060-2079</td>\n",
       "      <td>AFG</td>\n",
       "      <td>rcp26</td>\n",
       "      <td>16.2455</td>\n",
       "    </tr>\n",
       "    <tr>\n",
       "      <th>7898</th>\n",
       "      <td>2080-2099</td>\n",
       "      <td>AFG</td>\n",
       "      <td>rcp26</td>\n",
       "      <td>10.1975</td>\n",
       "    </tr>\n",
       "  </tbody>\n",
       "</table>\n",
       "</div>"
      ],
      "text/plain": [
       "            year ISO3 projection_rcp  5-day_rain_sum_max_25_years_mm\n",
       "61528  2020-2039  AFG          rcp26                         13.5017\n",
       "22146  2040-2059  AFG          rcp26                         28.9298\n",
       "28831  2060-2079  AFG          rcp26                         16.2455\n",
       "7898   2080-2099  AFG          rcp26                         10.1975"
      ]
     },
     "execution_count": 13,
     "metadata": {},
     "output_type": "execute_result"
    }
   ],
   "source": [
    "df_25y[(df_25y.projection_rcp == 'rcp26') & (df_25y.ISO3 == 'AFG')].sort_values(by=['ISO3', 'projection_rcp', 'year']).head(15)"
   ]
  },
  {
   "cell_type": "code",
   "execution_count": 14,
   "metadata": {},
   "outputs": [
    {
     "data": {
      "text/plain": [
       "2033"
      ]
     },
     "execution_count": 14,
     "metadata": {},
     "output_type": "execute_result"
    }
   ],
   "source": [
    "int(str(int(\"2020-2039\"[:3])+random.randint(0, 1)) + str(random.randint(0, 9)))"
   ]
  },
  {
   "cell_type": "code",
   "execution_count": 15,
   "metadata": {},
   "outputs": [],
   "source": [
    "\n",
    "#df_20y_new[(df_20y_new.projection_rcp == 'rcp26') & (df_20y_new.ISO3 == 'AFG')].sort_values(by=['ISO3', 'projection_rcp', 'year']).head(15)"
   ]
  },
  {
   "cell_type": "code",
   "execution_count": 16,
   "metadata": {},
   "outputs": [],
   "source": [
    "def random_year(year):\n",
    "    return int(str(int(year[:3])+random.randint(0, 1)) + str(random.randint(0, 9)))\n",
    "\n",
    "df_20y_new = df_25y.copy()\n",
    "df_20y_new['year'] = df_25y.year.apply(random_year)\n",
    "df_20y_new = df_20y_new.rename(columns={'5-day_rain_sum_max_25_years_mm': 'rain'})"
   ]
  },
  {
   "cell_type": "code",
   "execution_count": 17,
   "metadata": {},
   "outputs": [
    {
     "data": {
      "text/html": [
       "<div>\n",
       "<style scoped>\n",
       "    .dataframe tbody tr th:only-of-type {\n",
       "        vertical-align: middle;\n",
       "    }\n",
       "\n",
       "    .dataframe tbody tr th {\n",
       "        vertical-align: top;\n",
       "    }\n",
       "\n",
       "    .dataframe thead th {\n",
       "        text-align: right;\n",
       "    }\n",
       "</style>\n",
       "<table border=\"1\" class=\"dataframe\">\n",
       "  <thead>\n",
       "    <tr style=\"text-align: right;\">\n",
       "      <th></th>\n",
       "      <th>year</th>\n",
       "      <th>ISO3</th>\n",
       "      <th>projection_rcp</th>\n",
       "      <th>rain</th>\n",
       "    </tr>\n",
       "  </thead>\n",
       "  <tbody>\n",
       "    <tr>\n",
       "      <th>61528</th>\n",
       "      <td>2030</td>\n",
       "      <td>AFG</td>\n",
       "      <td>rcp26</td>\n",
       "      <td>13.5017</td>\n",
       "    </tr>\n",
       "    <tr>\n",
       "      <th>22146</th>\n",
       "      <td>2046</td>\n",
       "      <td>AFG</td>\n",
       "      <td>rcp26</td>\n",
       "      <td>28.9298</td>\n",
       "    </tr>\n",
       "    <tr>\n",
       "      <th>28831</th>\n",
       "      <td>2072</td>\n",
       "      <td>AFG</td>\n",
       "      <td>rcp26</td>\n",
       "      <td>16.2455</td>\n",
       "    </tr>\n",
       "  </tbody>\n",
       "</table>\n",
       "</div>"
      ],
      "text/plain": [
       "       year ISO3 projection_rcp     rain\n",
       "61528  2030  AFG          rcp26  13.5017\n",
       "22146  2046  AFG          rcp26  28.9298\n",
       "28831  2072  AFG          rcp26  16.2455"
      ]
     },
     "execution_count": 17,
     "metadata": {},
     "output_type": "execute_result"
    }
   ],
   "source": [
    "df_20y_new[(df_20y_new.projection_rcp == 'rcp26') & (df_20y_new.ISO3 == 'AFG')].sort_values(by=['ISO3', 'projection_rcp', 'year']).head(3)"
   ]
  },
  {
   "cell_type": "markdown",
   "metadata": {},
   "source": [
    "### Concatenate the 2 DF"
   ]
  },
  {
   "cell_type": "code",
   "execution_count": 18,
   "metadata": {},
   "outputs": [
    {
     "name": "stdout",
     "output_type": "stream",
     "text": [
      "3117 + 6234 = 9351 predictions to make\n"
     ]
    }
   ],
   "source": [
    "df_projection = df_20y_new.append(df_10y_new)\n",
    "print(len(df_20y_new), \"+\", len(df_10y_new), \"=\", len(df_projection), \"predictions to make\")"
   ]
  },
  {
   "cell_type": "code",
   "execution_count": 19,
   "metadata": {},
   "outputs": [
    {
     "data": {
      "text/html": [
       "<div>\n",
       "<style scoped>\n",
       "    .dataframe tbody tr th:only-of-type {\n",
       "        vertical-align: middle;\n",
       "    }\n",
       "\n",
       "    .dataframe tbody tr th {\n",
       "        vertical-align: top;\n",
       "    }\n",
       "\n",
       "    .dataframe thead th {\n",
       "        text-align: right;\n",
       "    }\n",
       "</style>\n",
       "<table border=\"1\" class=\"dataframe\">\n",
       "  <thead>\n",
       "    <tr style=\"text-align: right;\">\n",
       "      <th></th>\n",
       "      <th>year</th>\n",
       "      <th>ISO3</th>\n",
       "      <th>projection_rcp</th>\n",
       "      <th>rain</th>\n",
       "    </tr>\n",
       "  </thead>\n",
       "  <tbody>\n",
       "    <tr>\n",
       "      <th>61528</th>\n",
       "      <td>2030</td>\n",
       "      <td>AFG</td>\n",
       "      <td>rcp26</td>\n",
       "      <td>13.5017</td>\n",
       "    </tr>\n",
       "    <tr>\n",
       "      <th>22146</th>\n",
       "      <td>2046</td>\n",
       "      <td>AFG</td>\n",
       "      <td>rcp26</td>\n",
       "      <td>28.9298</td>\n",
       "    </tr>\n",
       "    <tr>\n",
       "      <th>28831</th>\n",
       "      <td>2072</td>\n",
       "      <td>AFG</td>\n",
       "      <td>rcp26</td>\n",
       "      <td>16.2455</td>\n",
       "    </tr>\n",
       "  </tbody>\n",
       "</table>\n",
       "</div>"
      ],
      "text/plain": [
       "       year ISO3 projection_rcp     rain\n",
       "61528  2030  AFG          rcp26  13.5017\n",
       "22146  2046  AFG          rcp26  28.9298\n",
       "28831  2072  AFG          rcp26  16.2455"
      ]
     },
     "execution_count": 19,
     "metadata": {},
     "output_type": "execute_result"
    }
   ],
   "source": [
    "df_projection.sort_values(by=['ISO3', 'projection_rcp', 'year']).head(3)"
   ]
  },
  {
   "cell_type": "markdown",
   "metadata": {},
   "source": [
    "## Save"
   ]
  },
  {
   "cell_type": "code",
   "execution_count": 20,
   "metadata": {},
   "outputs": [],
   "source": [
    "outfilename = f'{DATASET_FOLDER}projection_precipitation_for_prediction-2020-12-08.csv.gz'\n",
    "df_projection.to_csv(outfilename, index=False, compression='gzip')"
   ]
  },
  {
   "cell_type": "code",
   "execution_count": 21,
   "metadata": {},
   "outputs": [
    {
     "data": {
      "text/html": [
       "<div>\n",
       "<style scoped>\n",
       "    .dataframe tbody tr th:only-of-type {\n",
       "        vertical-align: middle;\n",
       "    }\n",
       "\n",
       "    .dataframe tbody tr th {\n",
       "        vertical-align: top;\n",
       "    }\n",
       "\n",
       "    .dataframe thead th {\n",
       "        text-align: right;\n",
       "    }\n",
       "</style>\n",
       "<table border=\"1\" class=\"dataframe\">\n",
       "  <thead>\n",
       "    <tr style=\"text-align: right;\">\n",
       "      <th></th>\n",
       "      <th>year</th>\n",
       "      <th>ISO3</th>\n",
       "      <th>projection_rcp</th>\n",
       "      <th>rain</th>\n",
       "    </tr>\n",
       "  </thead>\n",
       "  <tbody>\n",
       "    <tr>\n",
       "      <th>0</th>\n",
       "      <td>2029</td>\n",
       "      <td>JOR</td>\n",
       "      <td>rcp26</td>\n",
       "      <td>-9.74730</td>\n",
       "    </tr>\n",
       "    <tr>\n",
       "      <th>1</th>\n",
       "      <td>2034</td>\n",
       "      <td>MLI</td>\n",
       "      <td>rcp60</td>\n",
       "      <td>2.98533</td>\n",
       "    </tr>\n",
       "    <tr>\n",
       "      <th>2</th>\n",
       "      <td>2032</td>\n",
       "      <td>MLT</td>\n",
       "      <td>rcp60</td>\n",
       "      <td>0.63173</td>\n",
       "    </tr>\n",
       "  </tbody>\n",
       "</table>\n",
       "</div>"
      ],
      "text/plain": [
       "   year ISO3 projection_rcp     rain\n",
       "0  2029  JOR          rcp26 -9.74730\n",
       "1  2034  MLI          rcp60  2.98533\n",
       "2  2032  MLT          rcp60  0.63173"
      ]
     },
     "execution_count": 21,
     "metadata": {},
     "output_type": "execute_result"
    }
   ],
   "source": [
    "df_tmp = pd.read_csv(outfilename)\n",
    "df_tmp.head(3)\n",
    "del df_tmp"
   ]
  },
  {
   "cell_type": "code",
   "execution_count": null,
   "metadata": {},
   "outputs": [],
   "source": []
  }
 ],
 "metadata": {
  "kernelspec": {
   "display_name": "pySpark",
   "language": "python",
   "name": "pyspark"
  },
  "language_info": {
   "codemirror_mode": {
    "name": "ipython",
    "version": 3
   },
   "file_extension": ".py",
   "mimetype": "text/x-python",
   "name": "python",
   "nbconvert_exporter": "python",
   "pygments_lexer": "ipython3",
   "version": "3.8.6"
  }
 },
 "nbformat": 4,
 "nbformat_minor": 4
}
